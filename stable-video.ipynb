{
 "cells": [
  {
   "cell_type": "markdown",
   "metadata": {},
   "source": [
    "## Image-to-video stable-video-diffusion-img2vid"
   ]
  },
  {
   "cell_type": "markdown",
   "metadata": {},
   "source": [
    "Since generating videos is more memory intensive we can use the `decode_chunk_size` argument to control how many frames are decoded at once. This will reduce the memory usage. It's recommended to tweak this value based on your GPU memory. Setting `decode_chunk_size=1` will decode one frame at a time and will use the least amount of memory but the video might have some flickering."
   ]
  },
  {
   "cell_type": "code",
   "execution_count": 1,
   "metadata": {},
   "outputs": [
    {
     "name": "stderr",
     "output_type": "stream",
     "text": [
      "Couldn't connect to the Hub: 504 Server Error: Gateway Time-out for url: https://huggingface.co/api/models/stabilityai/stable-video-diffusion-img2vid.\n",
      "Will try to load from local cache.\n"
     ]
    },
    {
     "data": {
      "application/vnd.jupyter.widget-view+json": {
       "model_id": "084fc9cc67394239a7779186b6768398",
       "version_major": 2,
       "version_minor": 0
      },
      "text/plain": [
       "Loading pipeline components...:   0%|          | 0/5 [00:00<?, ?it/s]"
      ]
     },
     "metadata": {},
     "output_type": "display_data"
    },
    {
     "name": "stdout",
     "output_type": "stream",
     "text": [
      "(1024, 1024)\n",
      "(576, 576)\n"
     ]
    },
    {
     "data": {
      "application/vnd.jupyter.widget-view+json": {
       "model_id": "9ae0681f9c444e5088336c01823060e3",
       "version_major": 2,
       "version_minor": 0
      },
      "text/plain": [
       "  0%|          | 0/25 [00:00<?, ?it/s]"
      ]
     },
     "metadata": {},
     "output_type": "display_data"
    },
    {
     "data": {
      "text/plain": [
       "'outputs/img2vid/4.0-me-as-jedi2.mp4'"
      ]
     },
     "execution_count": 1,
     "metadata": {},
     "output_type": "execute_result"
    }
   ],
   "source": [
    "import torch\n",
    "\n",
    "from diffusers import StableVideoDiffusionPipeline\n",
    "from diffusers.utils import load_image, export_to_video\n",
    "\n",
    "pipe = StableVideoDiffusionPipeline.from_pretrained(\n",
    "    \"stabilityai/stable-video-diffusion-img2vid\", torch_dtype=torch.float16, variant=\"fp16\"\n",
    ")\n",
    "pipe.enable_model_cpu_offload()  # Use this if you don't have a GPU\n",
    "# pipe.to(\"cuda\")\n",
    "# pipe.unet = torch.compile(pipe.unet, mode=\"reduce-overhead\", fullgraph=True)\n",
    "\n",
    "pipe.unet.enable_forward_chunking()  # disable if enough memory as this slows down significantly\n",
    "\n",
    "# load image as PIL image\n",
    "image = load_image(\"./output/text2img/4.0-me-as-jedi.png\")\n",
    "# image = Image.open(\"./outputs/text2img/4.0-me-as-jedi.png\")\n",
    "# print image resolution\n",
    "print(image.size)\n",
    "# resize image to 576x576\n",
    "image_576 = image.resize((576, 576))\n",
    "# image = image.resize((1024, 576))\n",
    "print(image_576.size)\n",
    "\n",
    "generator = torch.manual_seed(42)\n",
    "# with torch.inference_mode():\n",
    "frames = pipe(image_576, decode_chunk_size=1, generator=generator, num_frames=25).frames[0]\n",
    "\n",
    "# save sample video to outputs/img2vid folder\n",
    "export_to_video(frames, \"output/img2vid/svd-measjedi2.mp4\", fps=16)"
   ]
  }
 ],
 "metadata": {
  "kernelspec": {
   "display_name": "loracustom",
   "language": "python",
   "name": "python3"
  },
  "language_info": {
   "codemirror_mode": {
    "name": "ipython",
    "version": 3
   },
   "file_extension": ".py",
   "mimetype": "text/x-python",
   "name": "python",
   "nbconvert_exporter": "python",
   "pygments_lexer": "ipython3",
   "version": "3.10.13"
  }
 },
 "nbformat": 4,
 "nbformat_minor": 2
}
